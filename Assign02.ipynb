{
 "cells": [
  {
   "cell_type": "markdown",
   "metadata": {},
   "source": [
    "# Tutorial: Taming Big Data With Apache Spark and Python - Hands On!\n",
    "## Assignment 2 - Total Spent Sorted\n",
    "\n",
    "### Setup\n",
    "\n",
    "FindSpark\n",
    "\n",
    "This will circumvent many issues with your system finding spark"
   ]
  },
  {
   "cell_type": "code",
   "execution_count": 1,
   "metadata": {},
   "outputs": [],
   "source": [
    "import findspark\n",
    "findspark.init('c:/users/andy/spark')"
   ]
  },
  {
   "cell_type": "markdown",
   "metadata": {},
   "source": [
    "Load Libraries"
   ]
  },
  {
   "cell_type": "code",
   "execution_count": 2,
   "metadata": {},
   "outputs": [],
   "source": [
    "from pyspark import SparkConf, SparkContext"
   ]
  },
  {
   "cell_type": "markdown",
   "metadata": {},
   "source": [
    "Set the file path"
   ]
  },
  {
   "cell_type": "code",
   "execution_count": 3,
   "metadata": {},
   "outputs": [],
   "source": [
    "data_folder = \"C:/Users/Andy/Dropbox/FactoryFloor/Repositories/Tutorial_Udemy_SparkPython/Course_Resources/\""
   ]
  },
  {
   "cell_type": "markdown",
   "metadata": {},
   "source": [
    "Create the Spark Context"
   ]
  },
  {
   "cell_type": "code",
   "execution_count": 4,
   "metadata": {},
   "outputs": [],
   "source": [
    "# configure your Spark context; master node is local machine\n",
    "conf = SparkConf().setMaster(\"local\").setAppName(\"TotalSpentSorted\")\n",
    "\n",
    "# create a spark context object\n",
    "sc = SparkContext(conf = conf)"
   ]
  },
  {
   "cell_type": "markdown",
   "metadata": {},
   "source": [
    "### Load the Data"
   ]
  },
  {
   "cell_type": "code",
   "execution_count": 5,
   "metadata": {},
   "outputs": [],
   "source": [
    "# path to file of interest\n",
    "file_to_open = data_folder + \"customer-orders.csv\"\n",
    "\n",
    "# load the file; textFile breaks up a data file so that each row represents a single value in an RDD\n",
    "input = sc.textFile(file_to_open)"
   ]
  },
  {
   "cell_type": "markdown",
   "metadata": {},
   "source": [
    "Inspect the RDD\n",
    "\n",
    "*CustomerID, ItemID, AmountSpent*"
   ]
  },
  {
   "cell_type": "code",
   "execution_count": 6,
   "metadata": {},
   "outputs": [
    {
     "data": {
      "text/plain": [
       "['99,9562,9.72',\n",
       " '99,9559,4.14',\n",
       " '99,9474,99.74',\n",
       " '99,9398,19.43',\n",
       " '99,9332,72.35']"
      ]
     },
     "execution_count": 6,
     "metadata": {},
     "output_type": "execute_result"
    }
   ],
   "source": [
    "input.top(5)"
   ]
  },
  {
   "cell_type": "markdown",
   "metadata": {},
   "source": [
    "Function To Parse RDD"
   ]
  },
  {
   "cell_type": "code",
   "execution_count": 7,
   "metadata": {},
   "outputs": [],
   "source": [
    "def parseLine(line):\n",
    "    fields = line.split(',')\n",
    "    customerID = int(fields[0])\n",
    "    totalamount = float(fields[2])\n",
    "    return (customerID, totalamount)"
   ]
  },
  {
   "cell_type": "markdown",
   "metadata": {},
   "source": [
    "### Transformations\n",
    "\n",
    "Split lines based on comma returne customerID and amount."
   ]
  },
  {
   "cell_type": "code",
   "execution_count": 8,
   "metadata": {},
   "outputs": [
    {
     "data": {
      "text/plain": [
       "[(99, 99.74), (99, 99.12), (99, 98.72), (99, 98.58), (99, 98.12)]"
      ]
     },
     "execution_count": 8,
     "metadata": {},
     "output_type": "execute_result"
    }
   ],
   "source": [
    "rdd = input.map(parseLine)\n",
    "\n",
    "rdd.top(5)"
   ]
  },
  {
   "cell_type": "markdown",
   "metadata": {},
   "source": [
    "Reduce on key (i.e., customerID) and aggregate (i.e., sum) values."
   ]
  },
  {
   "cell_type": "code",
   "execution_count": 9,
   "metadata": {},
   "outputs": [
    {
     "data": {
      "text/plain": [
       "[(99, 4172.289999999998),\n",
       " (98, 4297.260000000001),\n",
       " (97, 5977.189999999995),\n",
       " (96, 3924.230000000001),\n",
       " (95, 4876.840000000002)]"
      ]
     },
     "execution_count": 9,
     "metadata": {},
     "output_type": "execute_result"
    }
   ],
   "source": [
    "totalsByID = rdd.reduceByKey(lambda x, y: (x + y))\n",
    "\n",
    "totalsByID.top(5)"
   ]
  },
  {
   "cell_type": "markdown",
   "metadata": {},
   "source": [
    "Flip, so total spent is key. Sort."
   ]
  },
  {
   "cell_type": "code",
   "execution_count": 10,
   "metadata": {},
   "outputs": [
    {
     "data": {
      "text/plain": [
       "[(6375.449999999997, 68),\n",
       " (6206.199999999999, 73),\n",
       " (6193.109999999999, 39),\n",
       " (6065.389999999999, 54),\n",
       " (5995.660000000003, 71)]"
      ]
     },
     "execution_count": 10,
     "metadata": {},
     "output_type": "execute_result"
    }
   ],
   "source": [
    "totalsByIDSorted = totalsByID.map(lambda x: (x[1], x[0])).sortByKey()\n",
    "\n",
    "totalsByIDSorted.top(5)"
   ]
  },
  {
   "cell_type": "markdown",
   "metadata": {},
   "source": [
    "### Actions\n",
    "\n",
    "Collect the results"
   ]
  },
  {
   "cell_type": "code",
   "execution_count": 11,
   "metadata": {},
   "outputs": [],
   "source": [
    "results = totalsByIDSorted.collect()"
   ]
  },
  {
   "cell_type": "markdown",
   "metadata": {},
   "source": [
    "Format words to fit 'ascii', then return word and frequency."
   ]
  },
  {
   "cell_type": "code",
   "execution_count": 13,
   "metadata": {},
   "outputs": [
    {
     "name": "stdout",
     "output_type": "stream",
     "text": [
      "45 3309.38\n",
      "79 3790.570000000001\n",
      "96 3924.230000000001\n",
      "23 4042.6499999999987\n",
      "99 4172.289999999998\n",
      "75 4178.500000000001\n",
      "36 4278.049999999997\n",
      "98 4297.260000000001\n",
      "47 4316.299999999999\n",
      "77 4327.729999999999\n",
      "13 4367.62\n",
      "48 4384.33\n",
      "49 4394.599999999999\n",
      "94 4475.569999999999\n",
      "67 4505.79\n",
      "50 4517.27\n",
      "78 4524.509999999999\n",
      "5 4561.069999999999\n",
      "57 4628.4\n",
      "83 4635.799999999997\n",
      "91 4642.259999999999\n",
      "74 4647.129999999999\n",
      "84 4652.939999999999\n",
      "3 4659.63\n",
      "12 4664.589999999998\n",
      "66 4681.919999999999\n",
      "56 4701.019999999999\n",
      "21 4707.41\n",
      "80 4727.860000000001\n",
      "14 4735.030000000001\n",
      "37 4735.200000000002\n",
      "7 4755.070000000001\n",
      "44 4756.8899999999985\n",
      "31 4765.05\n",
      "82 4812.489999999998\n",
      "4 4815.050000000002\n",
      "10 4819.700000000001\n",
      "88 4830.549999999999\n",
      "20 4836.859999999999\n",
      "89 4851.479999999999\n",
      "95 4876.840000000002\n",
      "38 4898.460000000002\n",
      "76 4904.209999999999\n",
      "86 4908.81\n",
      "27 4915.889999999999\n",
      "18 4921.27\n",
      "53 4945.299999999999\n",
      "1 4958.600000000001\n",
      "51 4975.22\n",
      "16 4979.06\n",
      "30 4990.72\n",
      "28 5000.709999999998\n",
      "22 5019.449999999999\n",
      "29 5032.529999999999\n",
      "17 5032.679999999999\n",
      "60 5040.709999999999\n",
      "25 5057.610000000001\n",
      "19 5059.4299999999985\n",
      "81 5112.709999999999\n",
      "69 5123.010000000001\n",
      "65 5140.3499999999985\n",
      "11 5152.290000000002\n",
      "35 5155.419999999999\n",
      "40 5186.429999999999\n",
      "87 5206.4\n",
      "52 5245.059999999999\n",
      "26 5250.4\n",
      "62 5253.3200000000015\n",
      "33 5254.659999999998\n",
      "24 5259.920000000003\n",
      "93 5265.750000000001\n",
      "64 5288.689999999996\n",
      "90 5290.409999999998\n",
      "55 5298.090000000002\n",
      "9 5322.649999999999\n",
      "34 5330.8\n",
      "72 5337.44\n",
      "70 5368.249999999999\n",
      "43 5368.83\n",
      "92 5379.280000000002\n",
      "6 5397.879999999998\n",
      "15 5413.510000000001\n",
      "63 5415.150000000001\n",
      "58 5437.7300000000005\n",
      "32 5496.050000000004\n",
      "61 5497.479999999998\n",
      "85 5503.43\n",
      "8 5517.240000000001\n",
      "41 5637.62\n",
      "59 5642.89\n",
      "42 5696.840000000003\n",
      "46 5963.109999999999\n",
      "97 5977.189999999995\n",
      "2 5994.59\n",
      "71 5995.660000000003\n",
      "54 6065.389999999999\n",
      "39 6193.109999999999\n",
      "73 6206.199999999999\n",
      "68 6375.449999999997\n"
     ]
    }
   ],
   "source": [
    "for result in results:\n",
    "    total = str(result[0])\n",
    "    customerID = result[1]\n",
    "    if customerID:\n",
    "        print(customerID, total)"
   ]
  }
 ],
 "metadata": {
  "kernelspec": {
   "display_name": "Python 3",
   "language": "python",
   "name": "python3"
  },
  "language_info": {
   "codemirror_mode": {
    "name": "ipython",
    "version": 3
   },
   "file_extension": ".py",
   "mimetype": "text/x-python",
   "name": "python",
   "nbconvert_exporter": "python",
   "pygments_lexer": "ipython3",
   "version": "3.7.3"
  }
 },
 "nbformat": 4,
 "nbformat_minor": 2
}
